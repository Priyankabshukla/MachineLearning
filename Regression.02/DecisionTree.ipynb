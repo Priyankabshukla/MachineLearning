{
 "cells": [
  {
   "cell_type": "markdown",
   "id": "b021b035",
   "metadata": {},
   "source": [
    "##  Decision Trees"
   ]
  },
  {
   "cell_type": "code",
   "execution_count": 2,
   "id": "f01e8c64",
   "metadata": {},
   "outputs": [],
   "source": [
    "import numpy as np\n",
    "import pandas as pd\n",
    "import math"
   ]
  },
  {
   "cell_type": "code",
   "execution_count": 4,
   "id": "c554c754",
   "metadata": {},
   "outputs": [],
   "source": [
    "# data=pd.read_csv('problem1.csv')"
   ]
  },
  {
   "cell_type": "code",
   "execution_count": 83,
   "id": "d641e0ed",
   "metadata": {},
   "outputs": [],
   "source": [
    "X1=np.array(data['Has cough'].tolist())\n",
    "X2=np.array(data['Has runny nose'].tolist())\n",
    "X3=np.array(data['Has fever'].tolist())\n",
    "X4=np.array(data['Received vaccine'].tolist())\n",
    "Y=np.array(data['Has disease'].tolist())"
   ]
  },
  {
   "cell_type": "code",
   "execution_count": 84,
   "id": "e2fe03f4",
   "metadata": {},
   "outputs": [],
   "source": [
    "Yequal1=(Y==1).sum()\n",
    "Yequal0=(Y==0).sum()"
   ]
  },
  {
   "cell_type": "code",
   "execution_count": 85,
   "id": "426e0d33",
   "metadata": {},
   "outputs": [
    {
     "name": "stdout",
     "output_type": "stream",
     "text": [
      "Problem 1.2 Entropy of the labels H(Y):  0.971\n"
     ]
    }
   ],
   "source": [
    "# Entropy\n",
    "PY_T=Yequal1/(Yequal1+Yequal0)\n",
    "PY_F=Yequal0/(Yequal1+Yequal0)\n",
    "H_Y=-((PY_T*math.log2(PY_T))+(PY_F*math.log2(PY_F)))\n",
    "print(\"Entropy of the labels H(Y): \",round(H_Y,3))"
   ]
  },
  {
   "cell_type": "code",
   "execution_count": 86,
   "id": "6d982042",
   "metadata": {},
   "outputs": [],
   "source": [
    "def ConditionalEntropy(y,x):\n",
    "    PYequal1_X1equal0 = (y[np.where(x==0)]==1).sum()/(x==0).sum()\n",
    "    HYequal1_X1equal0 = PYequal1_X1equal0*math.log2(PYequal1_X1equal0)\n",
    "\n",
    "    PYequal0_X1equal0 = (y[np.where(x==0)]==0).sum()/(x==0).sum()\n",
    "    HYequal0_X1equal0 =PYequal0_X1equal0*math.log2(PYequal0_X1equal0)\n",
    "\n",
    "    PYequal1_X1equal1 = (y[np.where(x==1)]==1).sum()/(x==1).sum()\n",
    "    HYequal1_X1equal1 = PYequal1_X1equal1*math.log2(PYequal1_X1equal1)\n",
    "\n",
    "    PYequal0_X1equal1 = (y[np.where(x==1)]==0).sum()/(x==1).sum()\n",
    "    HYequal0_X1equal1= PYequal0_X1equal1*math.log2(PYequal0_X1equal1)\n",
    "\n",
    "    PX1_1= (x==1).sum()/len(x)\n",
    "    PX1_0=(x==0).sum()/len(x)\n",
    "    HY_X1=-((PX1_1*(HYequal1_X1equal1+HYequal0_X1equal1))+ (PX1_0*(HYequal1_X1equal0+HYequal0_X1equal0)))\n",
    "    \n",
    "    return HY_X1\n",
    "    "
   ]
  },
  {
   "cell_type": "code",
   "execution_count": 87,
   "id": "b4f8a50c",
   "metadata": {},
   "outputs": [
    {
     "name": "stdout",
     "output_type": "stream",
     "text": [
      "Information Gain for  X1:  0.0008\n",
      "Information Gain for  X2:  0.0031\n",
      "Information Gain for  X3:  0.014\n",
      "Information Gain for  X4:  0.0841\n"
     ]
    }
   ],
   "source": [
    "print(\"Information Gain for  X1: \",round((H_Y-ConditionalEntropy(Y,X1)),4))\n",
    "\n",
    "print(\"Information Gain for  X2: \",round((H_Y-ConditionalEntropy(Y,X2)),4))\n",
    "\n",
    "print(\"Information Gain for  X3: \",round((H_Y-ConditionalEntropy(Y,X3)),4))\n",
    "\n",
    "print(\"Information Gain for  X4: \",round((H_Y-ConditionalEntropy(Y,X4)),4))\n"
   ]
  },
  {
   "cell_type": "code",
   "execution_count": 88,
   "id": "bec2d7ac",
   "metadata": {},
   "outputs": [
    {
     "name": "stdout",
     "output_type": "stream",
     "text": [
      "Entropy when X4=0:  0.997\n",
      "\n",
      "\n",
      "Information Gain for  X1 given X4 =0 for node 2:  0.0348\n",
      "Information Gain for  X2 given X4=0 for node 2:  0.0021\n",
      "Information Gain for  X3 given X4=0 for node 2:  0.0021\n",
      "\n",
      "\n"
     ]
    }
   ],
   "source": [
    "## Recalculate entropy of rows where X4=0 and x4=1\n",
    "\n",
    "############## Entropy when X4==0 ###################\n",
    "Yequal1_X40=(Y[np.where(X4==0)]==1).sum()\n",
    "Yequal0_X40=(Y[np.where(X4==0)]==0).sum()\n",
    "PY_T_X40=Yequal1_X40/(Yequal1_X40+Yequal0_X40)\n",
    "PY_F_X40=Yequal0_X40/(Yequal1_X40+Yequal0_X40)\n",
    "H_Y_X4equal0=-((PY_T_X40*math.log2(PY_T_X40))+(PY_F_X40*math.log2(PY_F_X40)))\n",
    "print(\"Entropy when X4=0: \",round(H_Y_X4equal0,3))\n",
    "\n",
    "#Node 2 split when X4=0\n",
    "print('\\n')\n",
    "print(\"Information Gain for  X1 given X4 =0 for node 2: \",round((H_Y_X4equal0-ConditionalEntropy(Y[np.where(X4==0)],X1[np.where(X4==0)])),4)) #don't give all Y for another node. Recalculate the entropy again\n",
    "\n",
    "print(\"Information Gain for  X2 given X4=0 for node 2: \",round((H_Y_X4equal0-ConditionalEntropy(Y[np.where(X4==0)],X2[np.where(X4==0)])),4))\n",
    "\n",
    "print(\"Information Gain for  X3 given X4=0 for node 2: \",round((H_Y_X4equal0-ConditionalEntropy(Y[np.where(X4==0)],X3[np.where(X4==0)])),4))\n",
    "\n",
    "\n",
    "print('\\n')"
   ]
  },
  {
   "cell_type": "code",
   "execution_count": 95,
   "id": "1aa724f9",
   "metadata": {},
   "outputs": [
    {
     "name": "stdout",
     "output_type": "stream",
     "text": [
      "Entropy when X4=1:  0.722\n",
      "Information Gain for  X1 given X4=1 for node 3:  0.0323\n",
      "Information Gain for  X2 given X4=1 for node 3:  0.0\n",
      "Information Gain for  X3 given X4=1 for node 3:  0.0871\n"
     ]
    }
   ],
   "source": [
    "## Recalculate entropy of rows where X4=0 and x4=1\n",
    "\n",
    "\n",
    "Yequal1_X41=(Y[np.where(X4==1)]==1).sum()\n",
    "Yequal0_X41=(Y[np.where(X4==1)]==0).sum()\n",
    "PY_T_X41=Yequal1_X41/(Yequal1_X41+Yequal0_X41)\n",
    "PY_F_X41=Yequal0_X41/(Yequal1_X41+Yequal0_X41)\n",
    "H_Y_X4equal1=-((PY_T_X41*math.log2(PY_T_X41))+(PY_F_X41*math.log2(PY_F_X41)))\n",
    "print(\"Entropy when X4=1: \",round(H_Y_X4equal1,3))\n",
    "\n",
    "# Node 3 split when X4=1\n",
    "\n",
    "print(\"Information Gain for  X1 given X4=1 for node 3: \",round((H_Y_X4equal1-ConditionalEntropy(Y[np.where(X4==1)],X1[np.where(X4==1)])),4))\n",
    "\n",
    "print(\"Information Gain for  X2 given X4=1 for node 3: \",round((H_Y_X4equal1-ConditionalEntropy(Y[np.where(X4==1)],X2[np.where(X4==1)])),4))\n",
    "\n",
    "print(\"Information Gain for  X3 given X4=1 for node 3: \",round((H_Y_X4equal1-ConditionalEntropy(Y[np.where(X4==1)],X3[np.where(X4==1)])),4))"
   ]
  },
  {
   "cell_type": "code",
   "execution_count": 90,
   "id": "ad1fc318",
   "metadata": {},
   "outputs": [
    {
     "name": "stdout",
     "output_type": "stream",
     "text": [
      "Leaf 1 is:  1\n",
      "Leaf 2 is:  0\n",
      "Leaf 3 is:  1\n",
      "Leaf 4 is:  0\n"
     ]
    }
   ],
   "source": [
    "### Fit the leaf nodes ######\n",
    "\n",
    "def DT(X):\n",
    "    y_pred=[]\n",
    "\n",
    "    x=X.T    \n",
    "    leaf_1_y=x[(x[:,3]==0) & (x[:,0]==0)]  #X4==0 and X1==0\n",
    "\n",
    "    \n",
    "    if list(leaf_1_y[:,-1]).count(1) >= list(leaf_1_y[:,-1]).count(0):  # y prediction\n",
    "        leaf1=1\n",
    "    else:\n",
    "        leaf1=0\n",
    "        \n",
    "    \n",
    "        \n",
    "    print(\"Leaf 1 is: \", leaf1) \n",
    "    \n",
    "    leaf_2_y= x[(x[:,3]==0) & (x[:,0]==1)]                      #X4=0 and X1=1\n",
    "    if list(leaf_2_y[:,-1]).count(1)>=list(leaf_2_y[:,-1]).count(0):\n",
    "        leaf2=1\n",
    "    else:\n",
    "        leaf2=0\n",
    "        \n",
    "    print(\"Leaf 2 is: \", leaf2)\n",
    "    \n",
    "    leaf_3_y = x[(x[:,3]==1) & (x[:,2]==0)]   #X4=1 and X3=0\n",
    "    if list(leaf_3_y[:,-1]).count(1)>=list(leaf_3_y[:,-1]).count(0):\n",
    "        leaf3=1\n",
    "    else:\n",
    "        leaf3=0\n",
    "        \n",
    "    print(\"Leaf 3 is: \", leaf3)\n",
    "    \n",
    "    leaf_4_y=x[(x[:,3]==1) & (x[:,2]==1)]  #X4=1 and X3=1\n",
    "\n",
    "    if list(leaf_4_y[:,-1]).count(1)>=list(leaf_4_y[:,-1]).count(0):\n",
    "        leaf4=1\n",
    "    else:\n",
    "        leaf4=0\n",
    "        \n",
    "    print(\"Leaf 4 is: \", leaf4)\n",
    "\n",
    "    y_pred.append([leaf1]*len(leaf_1_y[:,-1]) + [leaf2]*len(leaf_2_y[:,-1]) + [leaf3]*len(leaf_3_y[:,-1]) + [leaf4]*len(leaf_4_y[:,-1]))\n",
    "\n",
    "\n",
    "    \n",
    "    return leaf1,leaf2,leaf3,leaf4, y_pred[0]\n",
    "    \n",
    "        \n",
    "\n",
    "    \n",
    "leaf_1,leaf_2,leaf_3,leaf_4,y_pred=DT(np.array([X1,X2,X3,X4,Y]))\n",
    "\n"
   ]
  },
  {
   "cell_type": "code",
   "execution_count": 91,
   "id": "070665c2",
   "metadata": {},
   "outputs": [
    {
     "name": "stdout",
     "output_type": "stream",
     "text": [
      "Model accuracy:  0.68\n"
     ]
    }
   ],
   "source": [
    "def accuracy(X,y_pred):\n",
    "    y_true_list=[]\n",
    "    x=X.T\n",
    "    y_true_X4zero_X1zero=x[:,-1][(x[:,3]==0) & (x[:,0]==0)]\n",
    "    y_true_X4zero_X1one=x[:,-1][(x[:,3]==0) & (x[:,0]==1)]\n",
    "    y_true_X4one_X3zero=x[:,-1][(x[:,3]==1) & (x[:,2]==0)]\n",
    "    y_true_X4one_X3one=x[:,-1][(x[:,3]==1) & (x[:,2]==1)]\n",
    "    \n",
    "   \n",
    "    y_true_list.append(list(y_true_X4zero_X1zero)+list(y_true_X4zero_X1one)+list(y_true_X4one_X3zero)+list(y_true_X4one_X3one))\n",
    "#     print(y_true[0])\n",
    "    \n",
    "    y_true=y_true_list[0]\n",
    "    acc= sum(np.array(y_pred)==np.array(y_true))/len(y_true)\n",
    "    return acc\n",
    "\n",
    "\n",
    "\n",
    "print(\"Model accuracy: \",accuracy(np.array([X1,X2,X3,X4,Y]),y_pred))\n",
    "\n"
   ]
  },
  {
   "cell_type": "markdown",
   "id": "cf9ab433",
   "metadata": {},
   "source": [
    "##  Boosting"
   ]
  },
  {
   "cell_type": "code",
   "execution_count": 92,
   "id": "5e2a5385",
   "metadata": {},
   "outputs": [
    {
     "name": "stdout",
     "output_type": "stream",
     "text": [
      "epsilon1:  0.3333333333333333\n",
      "Alpha 1: 0.34657359027997275\n",
      "Point 1 weight after 1 it:  0.25\n",
      "Point 2 weight after 1 it:  0.25\n",
      "Point 3 weight after 1 it:  0.5\n"
     ]
    }
   ],
   "source": [
    "epsilon_1=(1/3)\n",
    "D1_1=1/3\n",
    "D1_2=1/3\n",
    "D1_3=1/3\n",
    "print('epsilon1: ',epsilon_1)\n",
    "a1=0.5*(np.log((1-epsilon_1)/epsilon_1))\n",
    "print(\"Alpha 1:\",a1)\n",
    "Z1=(D1_1*np.exp(-a1))+(D1_2*np.exp(-a1))+(D1_3*np.exp(a1))\n",
    "D2_1=(D1_1*np.exp(-a1))/Z1\n",
    "D2_2=(D1_2*np.exp(-a1))/Z1\n",
    "D2_3=(D1_3*np.exp(a1))/Z1\n",
    "\n",
    "print(\"Point 1 weight after 1 it: \",round(D2_1,3))\n",
    "print(\"Point 2 weight after 1 it: \",round(D2_2,3))\n",
    "print(\"Point 3 weight after 1 it: \",round(D2_3,3))\n"
   ]
  },
  {
   "cell_type": "code",
   "execution_count": 93,
   "id": "bb78acaf",
   "metadata": {},
   "outputs": [
    {
     "name": "stdout",
     "output_type": "stream",
     "text": [
      "epsilon2:  0.24999999999999997\n",
      "alpha2:  0.5493061443340549\n",
      "Point 1 weight after 2 it:  0.167\n",
      "Point 2 weight after 2 it:  0.5\n",
      "Point 3 weight after 2 it:  0.333\n"
     ]
    }
   ],
   "source": [
    "epsilon_2=D2_2/(D2_1+D2_2+D2_3)\n",
    "print(\"epsilon2: \",epsilon_2)\n",
    "a2=0.5*(np.log((1-epsilon_2)/epsilon_2))\n",
    "print(\"alpha2: \",a2)\n",
    "Z2=(D2_1*np.exp(-a2))+(D2_2*np.exp(a2))+(D2_3*np.exp(-a2))\n",
    "D3_1=(D2_1*np.exp(-a2))/Z2\n",
    "D3_2=(D2_2*np.exp(a2))/Z2\n",
    "D3_3=(D2_3*np.exp(-a2))/Z2\n",
    "print(\"Point 1 weight after 2 it: \",round(D3_1,3))\n",
    "print(\"Point 2 weight after 2 it: \",round(D3_2,3))\n",
    "print(\"Point 3 weight after 2 it: \",round(D3_3,3))\n"
   ]
  },
  {
   "cell_type": "code",
   "execution_count": 94,
   "id": "1f0d734a",
   "metadata": {},
   "outputs": [
    {
     "name": "stdout",
     "output_type": "stream",
     "text": [
      "epsilon3:  0.16666666666666663\n",
      "alpha3: : 0.8047189562170504\n",
      "Point 1 weight after 3 it:  0.5\n",
      "Point 2 weight after 3 it:  0.3\n",
      "Point 3 weight after 3 it:  0.2\n"
     ]
    }
   ],
   "source": [
    "epsilon_3=D3_1/(D3_1+D3_2+D3_3)\n",
    "print(\"epsilon3: \",epsilon_3)\n",
    "a3=0.5*(np.log((1-epsilon_3)/epsilon_3))\n",
    "print('alpha3: :',a3)\n",
    "Z3=(D3_1*np.exp(a3))+(D3_2*np.exp(-a3))+(D3_3*np.exp(-a3))\n",
    "D4_1=(D3_1*np.exp(a3))/Z3\n",
    "D4_2=(D3_2*np.exp(-a3))/Z3\n",
    "D4_3=(D3_3*np.exp(-a3))/Z3\n",
    "print(\"Point 1 weight after 3 it: \",round(D4_1,3))\n",
    "print(\"Point 2 weight after 3 it: \",round(D4_2,3))\n",
    "print(\"Point 3 weight after 3 it: \",round(D4_3,3))\n"
   ]
  }
 ],
 "metadata": {
  "kernelspec": {
   "display_name": "Python 3 (ipykernel)",
   "language": "python",
   "name": "python3"
  },
  "language_info": {
   "codemirror_mode": {
    "name": "ipython",
    "version": 3
   },
   "file_extension": ".py",
   "mimetype": "text/x-python",
   "name": "python",
   "nbconvert_exporter": "python",
   "pygments_lexer": "ipython3",
   "version": "3.9.12"
  }
 },
 "nbformat": 4,
 "nbformat_minor": 5
}
