{
 "cells": [
  {
   "cell_type": "code",
   "execution_count": 221,
   "id": "f07f9ed5",
   "metadata": {},
   "outputs": [
    {
     "name": "stdout",
     "output_type": "stream",
     "text": [
      "X shape:  (200, 5)\n",
      "w shape:  (5,)\n",
      "y shape:  (200,)\n"
     ]
    }
   ],
   "source": [
    "import matplotlib.pyplot as plt\n",
    "import numpy as np\n",
    "\n",
    "rng = np.random.default_rng(0)\n",
    "d = 5 #no. of features\n",
    "n = 200 #no of datapoints\n",
    "\n",
    "X = rng.standard_normal(size=(n, d)) #Draw sample from normal distribution\n",
    "w_star = np.ones(d)\n",
    "y = np.dot(X, w_star) + 0.5 * rng.standard_normal(size=n)\n",
    "print(\"X shape: \",X.shape)\n",
    "print('w shape: ',w_star.shape) #number of parameters to fit\n",
    "print('y shape: ',y.shape)\n",
    "# rng"
   ]
  },
  {
   "cell_type": "code",
   "execution_count": 198,
   "id": "889f2dd5",
   "metadata": {},
   "outputs": [],
   "source": [
    "def ols_estimator(X, y):\n",
    "    \"\"\"\n",
    "\tReturn the OLS estimator.\n",
    "\tThe only built in Numpy functions you are allowed to use are np.linalg.solve and\n",
    "\tnp.dot (or equivalent matrix multiplication syntax such as np.matmul).\n",
    "\tNote you are not allowed to use np.linalg.inv.\n",
    "\tYou should return a Numpy array of shape (d,).\n",
    "\t\"\"\"\n",
    "    A=np.dot(X.T,X)\n",
    "    B=np.dot(X.T,y)\n",
    "    beta=np.linalg.solve(A,B)\n",
    "    return beta\n",
    "\t"
   ]
  },
  {
   "cell_type": "code",
   "execution_count": 200,
   "id": "9fcf6fee",
   "metadata": {},
   "outputs": [],
   "source": [
    "def ridge_estimator(X, y, lamb):\n",
    "    \"\"\"\n",
    "\tReturn the ridge regression estimator with regularization parameter lamb.\n",
    "\tThe only built in Numpy functions you are allowed to use are np.linalg.solve and\n",
    "\tnp.dot (or equivalent matrix multiplication syntax such as np.matmul).\n",
    "\tNote you are not allowed to use np.linalg.inv.\n",
    "\t\n",
    "\tYou should return a Numpy array of shape (d,).\n",
    "\t\"\"\"\n",
    "    A=np.dot(X.T,X)+ (lamb*np.identity(5))\n",
    "    B=np.dot(X.T,y)\n",
    "    beta=np.linalg.solve(A,B)\n",
    "    return beta\n",
    "\n",
    "\t"
   ]
  },
  {
   "cell_type": "code",
   "execution_count": 202,
   "id": "7fac4123",
   "metadata": {},
   "outputs": [
    {
     "data": {
      "image/png": "[encoded data removed]",
      "text/plain": [
       "<Figure size 432x288 with 1 Axes>"
      ]
     },
     "metadata": {
      "needs_background": "light"
     },
     "output_type": "display_data"
    }
   ],
   "source": [
    "def plot_norm_of_ridge_sol(X, y, lamb_list):\n",
    "    \"\"\"\n",
    "\n",
    "\tYou do not need to return anything.\n",
    "\tBut calling this function should do the following.\n",
    "\tIt computes the ridge regression estimator for each lambda in lamb_list. It then\n",
    "\tcomputes the L2 norm of each of these estimators. Finally, it plots these norms\n",
    "\ton the Y axis against the lambda values on the X axis, and shows this plot.\n",
    "\n",
    "\tYou are encouraged to use the function ridge_estimator to help you implement\n",
    "\tthis function.\n",
    "\t\"\"\"\n",
    "\t\n",
    "    l2norm_list=np.array([])\n",
    "    for i in lamb_list:\n",
    "        beta=ridge_estimator(X,y,i)\n",
    "        L2_norm=np.sqrt(np.dot(beta,beta))\n",
    "        l2norm_list=np.append(l2norm_list,L2_norm)\n",
    "\n",
    "\n",
    "    plt.plot(np.array(lamb_list),l2norm_list,'o-')\n",
    "    plt.xlabel('lambda',size=20)\n",
    "    plt.ylabel('L2-norm',size=20)\n",
    "    plt.savefig('Ques3Part6.png')\n",
    "\n",
    "\n",
    "\"\"\"RUN THIS CODE BLOCK FOR Q6.\"\"\"\n",
    "lamb_list = [0, 2, 4, 8, 16, 32, 64, 128, 256, 512, 1024, 2048, 5096]\n",
    "plot_norm_of_ridge_sol(X, y, lamb_list)\n"
   ]
  },
  {
   "cell_type": "code",
   "execution_count": 204,
   "id": "25aeaa16",
   "metadata": {},
   "outputs": [],
   "source": [
    "def ridge_obj(X, y, lamb, w):\n",
    "    \"\"\"\n",
    "\n",
    "\tThis function should return the evaluation of the ridge regression objective function\n",
    "\ton the input w.\n",
    "\n",
    "\tYou should return a non-negative float.\n",
    "\t\"\"\"\n",
    "    A=0.5*np.dot((np.dot(X,w)-y),(np.dot(X,w)-y))\n",
    "    B=lamb*np.dot(w,w)\n",
    "    obj_func=A+B\n",
    "    return obj_func\n",
    "\n",
    "\t"
   ]
  },
  {
   "cell_type": "code",
   "execution_count": 206,
   "id": "fd0bd28b",
   "metadata": {},
   "outputs": [],
   "source": [
    "def ridge_gradient(X, y, lamb, w):\n",
    "    \"\"\"\n",
    "\n",
    "\tThis function should return the gradient of the ridge regression objective function\n",
    "\tevaluated at the input w.\n",
    "\n",
    "\tYou should return a numpy array of shape (d,).\n",
    "\t\"\"\"\n",
    "    grad=np.dot(X.T,(np.dot(X,w)-y)) + 2*lamb*w\n",
    "    return grad\n",
    "\t"
   ]
  },
  {
   "cell_type": "code",
   "execution_count": 208,
   "id": "99d7353a",
   "metadata": {},
   "outputs": [],
   "source": [
    "def ridge_gradient_descent(X, y, lamb, eta, iters):\n",
    "    \"\"\"\n",
    "\n",
    "\tThis function should run gradient descent to compute the ridge regression estimator.\n",
    "\n",
    "\tYou should return a Tuple. The first entry of the Tuple is a Numpy array of shape (d,),\n",
    "\twhich is the outputted ridge regression estimator found by gradient descent. The second\n",
    "\tentry is a list of length iters (note that iters is an input to this function).\n",
    "\tThe t-th entry of this list is the evaluation of the\n",
    "\tt-th gradient descent iterate in the ridge regression objective function.\n",
    "\t\"\"\"\n",
    "    w=np.zeros(d)\n",
    "    W_list=[]\n",
    "    obj_list=[]\n",
    "\n",
    "    for i in range(iters):\n",
    "        w=w - eta*ridge_gradient(X,y,lamb,w)\n",
    "        obj_list.append(ridge_obj(X, y, lamb, w))\n",
    "        W_list.append(w)\n",
    "\n",
    "    return (np.array(W_list[-1]),obj_list)  \n",
    "\n",
    "        \n",
    "    \n",
    "\t\n",
    "\n",
    "    "
   ]
  },
  {
   "cell_type": "code",
   "execution_count": 210,
   "id": "30ce6e40",
   "metadata": {},
   "outputs": [
    {
     "data": {
      "image/png": "[encoded data removed]",
      "text/plain": [
       "<Figure size 432x288 with 1 Axes>"
      ]
     },
     "metadata": {
      "needs_background": "light"
     },
     "output_type": "display_data"
    },
    {
     "name": "stdout",
     "output_type": "stream",
     "text": [
      "Gap between GD Sol and Analytical Sol: 0.025767498511247683\n",
      "Gap between GD Sol and True w_star: 0.06896478525377406\n"
     ]
    }
   ],
   "source": [
    "lamb = 0.0125\n",
    "eta = 0.00005\n",
    "iters = 500\n",
    "w_gd, gd_costs = ridge_gradient_descent(X, y, lamb, eta, iters)\n",
    "plt.plot(range(iters), gd_costs)\n",
    "plt.xlabel(\"GD Iteration\")\n",
    "plt.ylabel(\"Ridge Obj Cost\")\n",
    "plt.savefig('Obj.png')\n",
    "plt.show()\n",
    "print(\"Gap between GD Sol and Analytical Sol: \" + str(np.linalg.norm(w_gd - ridge_estimator(X, y, lamb))))\n",
    "print(\"Gap between GD Sol and True w_star: \" + str(np.linalg.norm(w_gd - w_star)))\n"
   ]
  },
  {
   "cell_type": "code",
   "execution_count": 212,
   "id": "4b3d8b9f",
   "metadata": {},
   "outputs": [
    {
     "data": {
      "image/png": "[encoded data removed]",
      "text/plain": [
       "<Figure size 432x288 with 1 Axes>"
      ]
     },
     "metadata": {
      "needs_background": "light"
     },
     "output_type": "display_data"
    }
   ],
   "source": [
    "lamb = 0.0125\n",
    "eta = 0.0085\n",
    "iters = 50\n",
    "w_gd, gd_costs = ridge_gradient_descent(X, y, lamb, eta, iters)\n",
    "plt.plot(range(iters), gd_costs)\n",
    "plt.xlabel(\"GD Iteration\")\n",
    "plt.ylabel(\"Ridge Obj Cost\")\n",
    "plt.savefig('RidgeObj.png')\n",
    "plt.show()"
   ]
  },
  {
   "cell_type": "markdown",
   "id": "0c5f448a",
   "metadata": {},
   "source": [
    "## How to use rng for uniform sampling??"
   ]
  },
  {
   "cell_type": "code",
   "execution_count": 213,
   "id": "a0050d29",
   "metadata": {},
   "outputs": [],
   "source": [
    "def ridge_stochastic_gradient(X, y, lamb, w, batch_size, rng):\n",
    "    \"\"\"\n",
    "\n",
    "\tAssume that X has n rows.\n",
    "\n",
    "\tThis function should use the input rng object to sample without replacement batch_size\n",
    "\tmany indices from {0, 1 ... n - 1}. It should then return the gradient of the objective\n",
    "\tfunction at these sampled indices.\n",
    "\n",
    "\tYou should return a numpy array of shape (d,).\n",
    "\t\"\"\"\n",
    "\n",
    "    Xy_column=np.c_[X,y]\n",
    "    Xy_column=Xy_column[rng.choice(len(X),size=batch_size,replace=False)]\n",
    "    y_Xy_col=Xy_column[:,-1]\n",
    "    X_Xy_col=Xy_column[:,0:d]\n",
    "    grad=(len(X)/batch_size)*(np.dot(X_Xy_col.T,(np.dot(X_Xy_col,w)-y_Xy_col)) + (2*lamb*w))\n",
    "    return grad\n",
    "    \n",
    "    \n",
    "\t"
   ]
  },
  {
   "cell_type": "code",
   "execution_count": 218,
   "id": "63c107c0",
   "metadata": {},
   "outputs": [],
   "source": [
    "def ridge_stochastic_gd(X, y, lamb, eta, iters, batch_size, rng):\n",
    "    \"\"\"\n",
    "\n",
    "\tThis function should run stochastic gradient descent to compute the ridge regression estimator.\n",
    "\n",
    "\tYou should return a Tuple. The first entry of the Tuple is a Numpy array of shape (d,),\n",
    "\twhich is the outputted ridge regression estimator found by stochastic gradient descent. The second\n",
    "\tentry is a list of length iters. The t-th entry of this list is the evaluation of the\n",
    "\tt-th stochastic gradient descent iterate in the ridge regression objective function.\n",
    "\t\"\"\"\n",
    "    w=np.zeros(d)\n",
    "    W_list=[]\n",
    "    obj_list=[]\n",
    "    for i in range(iters):\n",
    "        w=w - eta*(ridge_stochastic_gradient(X, y, lamb, w, batch_size, rng))\n",
    "        obj_list.append(ridge_obj(X, y, lamb, w))\n",
    "        W_list.append(w)\n",
    "    return (np.array(W_list[-1]),obj_list)  \n",
    "\n",
    "\n",
    "\t"
   ]
  },
  {
   "cell_type": "code",
   "execution_count": 220,
   "id": "1f3a1b9a",
   "metadata": {
    "scrolled": true
   },
   "outputs": [
    {
     "data": {
      "image/png": "[encoded data removed]",
      "text/plain": [
       "<Figure size 432x288 with 1 Axes>"
      ]
     },
     "metadata": {
      "needs_background": "light"
     },
     "output_type": "display_data"
    },
    {
     "name": "stdout",
     "output_type": "stream",
     "text": [
      "SGD1 Solution: [1.01733492 0.94066834 0.99920999 0.98254588 0.99853575]\n",
      "SGD3 Solution: [1.01206639 0.92615794 0.99620128 1.01048025 1.0415241 ]\n",
      "SGD20 Solution: [1.00831874 0.95661579 0.98203339 1.01355173 1.04281116]\n",
      "Gap between GD Sol and Analytical Sol: 0.032961876192310155\n"
     ]
    }
   ],
   "source": [
    "lamb = 0.0125\n",
    "eta = 0.00005\n",
    "iters = 500\n",
    "w_sgd_batch1, sgd_costs_batch1 = ridge_stochastic_gd(X, y, lamb, eta, iters, batch_size=1, rng=rng)\n",
    "w_sgd_batch3, sgd_costs_batch3 = ridge_stochastic_gd(X, y, lamb, eta, iters, batch_size=3, rng=rng)\n",
    "w_sgd_batch20, sgd_costs_batch20 = ridge_stochastic_gd(X, y, lamb, eta, iters, batch_size=20, rng=rng)\n",
    "plt.plot(range(iters), sgd_costs_batch1, label=\"SGD1\")\n",
    "plt.plot(range(iters), sgd_costs_batch3, label=\"SGD3\")\n",
    "plt.plot(range(iters), sgd_costs_batch20, label=\"SGD20\")\n",
    "plt.legend()\n",
    "plt.xlabel(\"SGD Iteration\")\n",
    "plt.ylabel(\"Ridge Obj Cost\")\n",
    "plt.savefig('SGD.png')\n",
    "plt.show()\n",
    "print(\"SGD1 Solution: \" + str(w_sgd_batch1))\n",
    "print(\"SGD3 Solution: \" + str(w_sgd_batch3))\n",
    "print(\"SGD20 Solution: \" + str(w_sgd_batch20))\n",
    "print(\"Gap between GD Sol and Analytical Sol: \" + str(np.linalg.norm(w_sgd_batch20 - ridge_estimator(X, y, lamb))))\n"
   ]
  }
 ],
 "metadata": {
  "kernelspec": {
   "display_name": "Python 3 (ipykernel)",
   "language": "python",
   "name": "python3"
  },
  "language_info": {
   "codemirror_mode": {
    "name": "ipython",
    "version": 3
   },
   "file_extension": ".py",
   "mimetype": "text/x-python",
   "name": "python",
   "nbconvert_exporter": "python",
   "pygments_lexer": "ipython3",
   "version": "3.9.12"
  }
 },
 "nbformat": 4,
 "nbformat_minor": 5
}
